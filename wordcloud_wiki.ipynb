{
 "cells": [
  {
   "cell_type": "markdown",
   "metadata": {},
   "source": [
    "# Making WordCloud with random text from internet"
   ]
  },
  {
   "cell_type": "code",
   "execution_count": 2,
   "metadata": {},
   "outputs": [],
   "source": [
    "import sys\n",
    "from os import path\n",
    "import numpy as np\n",
    "from PIL import Image\n",
    "import wikipedia\n",
    "from wordcloud import WordCloud, STOPWORDS\n",
    "\n",
    "# get path to script's directory where it is.\n",
    "currdir = os.path.dirname('__file__')\n",
    "\n",
    "def get_wiki(query):\n",
    "\t# get best matching title for given query\n",
    "\ttitle = wikipedia.search(query)[0]\n",
    "\n",
    "\t# get wikipedia page for selected title\n",
    "\tpage = wikipedia.page(title)\n",
    "\treturn page.content\n",
    "\n",
    "\n",
    "def create_wordcloud(text):\n",
    "    # create numpy araay for wordcloud mask image getting from same working directory\n",
    "    mask = np.array(Image.open(path.join(currdir, \"cloud.png\")))\n",
    "\n",
    "    # create set of stopwords. it is used for don't use \"is, are, was, were etc\" this type of words\n",
    "    stopwords = set(STOPWORDS)\n",
    "\n",
    "    # create wordcloud object\n",
    "    wc = WordCloud(background_color=\"white\",\n",
    "                    max_words=2000, \n",
    "                    mask=mask,\n",
    "                    stopwords=stopwords)\n",
    "    \n",
    "    # generate wordcloud\n",
    "    wc.generate(text)\n",
    "\n",
    "    # save wordcloud image in same working directory\n",
    "    wc.to_file(path.join(currdir, \"wc.png\"))\n",
    "\n",
    "    #run the program\n",
    "create_wordcloud(get_wiki(\"Pakistan\"))\n"
   ]
  },
  {
   "cell_type": "code",
   "execution_count": null,
   "metadata": {},
   "outputs": [],
   "source": []
  }
 ],
 "metadata": {
  "kernelspec": {
   "display_name": "Python 3",
   "language": "python",
   "name": "python3"
  },
  "language_info": {
   "codemirror_mode": {
    "name": "ipython",
    "version": 3
   },
   "file_extension": ".py",
   "mimetype": "text/x-python",
   "name": "python",
   "nbconvert_exporter": "python",
   "pygments_lexer": "ipython3",
   "version": "3.7.3"
  }
 },
 "nbformat": 4,
 "nbformat_minor": 2
}
